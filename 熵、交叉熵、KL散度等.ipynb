{
 "cells": [
  {
   "cell_type": "markdown",
   "metadata": {},
   "source": [
    "## 前言"
   ]
  },
  {
   "cell_type": "markdown",
   "metadata": {},
   "source": [
    "最近在看到神经网络损失函数为什么要用交叉熵的时候，\n",
    "\n",
    "顺便把熵、交叉熵、KL散度、互信息等概念理顺了一遍，\n",
    "\n",
    "原来总是或多或少有些迷糊，这次总算是理清了。"
   ]
  },
  {
   "cell_type": "markdown",
   "metadata": {},
   "source": [
    "### 参考资料:"
   ]
  },
  {
   "cell_type": "markdown",
   "metadata": {},
   "source": [
    "1、物理学博士 傅渥成的知乎live:[熵：时间、信息和生命](https://www.zhihu.com/lives/773839432754151424)\n",
    "\n",
    "讲的很全且有深度"
   ]
  },
  {
   "cell_type": "markdown",
   "metadata": {},
   "source": [
    "2、[交叉熵代价函数（作用及公式推导）](https://blog.csdn.net/u014313009/article/details/51043064)\n",
    "\n",
    "作者用实例说明了在激活函数选用sigmoid时，用MSE当损失函数时，当误差大的时候，参数迭代的慢，而用交叉熵，会在误差大的时候，参数迭代快"
   ]
  },
  {
   "cell_type": "markdown",
   "metadata": {},
   "source": []
  },
  {
   "cell_type": "code",
   "execution_count": null,
   "metadata": {},
   "outputs": [],
   "source": []
  }
 ],
 "metadata": {
  "kernelspec": {
   "display_name": "Python 3",
   "language": "python",
   "name": "python3"
  },
  "language_info": {
   "codemirror_mode": {
    "name": "ipython",
    "version": 3
   },
   "file_extension": ".py",
   "mimetype": "text/x-python",
   "name": "python",
   "nbconvert_exporter": "python",
   "pygments_lexer": "ipython3",
   "version": "3.6.4"
  }
 },
 "nbformat": 4,
 "nbformat_minor": 2
}
