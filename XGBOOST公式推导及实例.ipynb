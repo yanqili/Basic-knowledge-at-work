{
 "cells": [
  {
   "cell_type": "markdown",
   "metadata": {},
   "source": [
    "## 一、构造目标函数"
   ]
  },
  {
   "cell_type": "markdown",
   "metadata": {},
   "source": [
    "i : 样本编号；$f_{i}$：第i棵树\n",
    "\n",
    "$\\hat{y}_{i}^{0}= 0$\n",
    "\n",
    "$\\hat{y}_{i}^{1}=\\hat{y}_{i}^{0}+f_{1}\\left(x_{i}\\right)$\n",
    "\n",
    "$\\hat{y}_{i}^{2}=\\hat{y}_{i}^{1}+f_{2}\\left(x_{i}\\right)$\n",
    "\n",
    "$\\hat{y}_{i}^{K}=\\hat{y}_{i}^{K-1}+f_{K}\\left(x_{i}\\right)$\n",
    "\n",
    "\n",
    "\n",
    "\n",
    "\n",
    "\n",
    "\n",
    "\n",
    "\n",
    "\n"
   ]
  },
  {
   "cell_type": "markdown",
   "metadata": {},
   "source": [
    "到第K棵树时，目标函数是：\n",
    "\n",
    ">$O b j^{K}=\\sum_{i} L\\left(y_{i}, \\hat{y}_{i}^{K}\\right)+\\Omega\\left(f_{K}\\right)$\n",
    "\n",
    ">$O b j^{K}=\\sum_{i} L\\left(y_{i}, \\hat{y}_{i}^{K-1}+f_{K}\\left(x_{i}\\right)\\right)$"
   ]
  },
  {
   "cell_type": "markdown",
   "metadata": {},
   "source": [
    "## 二、第一次转换目标函数"
   ]
  },
  {
   "cell_type": "markdown",
   "metadata": {},
   "source": [
    "对L应用泰勒二阶展开 \n",
    "\n",
    "$f(x+\\Delta x)=f(x)+f^{\\prime}(x) \\Delta x+\\frac{1}{2} f^{\\prime \\prime}(x) \\Delta x^{2}$\n",
    "\n",
    "得到：\n",
    "\n",
    ">$O b j^{K}=\\sum_{i}\\left[L\\left(y_{i}, \\hat{y}_{i}^{K-1}\\right)+L^{\\prime}\\left(y_{i}, \\hat{y}_{i}^{K-1}\\right) f_{K}\\left(x_{i}\\right)+\\frac{1}{2} L^{\\prime \\prime}\\left(y_{i}, \\hat{y}_{i}^{K-1}\\right) f_{K}^{2}\\left(x_{i}\\right)\\right] + \\Omega\\left(f_{K}\\right)$"
   ]
  },
  {
   "cell_type": "markdown",
   "metadata": {},
   "source": [
    "## 三、第二次转换目标函数"
   ]
  },
  {
   "cell_type": "markdown",
   "metadata": {},
   "source": [
    "其中 $L\\left(y_{i}, \\hat{y}_{i}^{K-1}\\right)$、$L^{\\prime}\\left(y_{i}, \\hat{y}_{i}^{K-1}\\right)$、$L^{\\prime \\prime}\\left(y_{i}, \\hat{y}_{i}^{K-1}\\right)$ 是常数，用g、h来代表"
   ]
  },
  {
   "cell_type": "markdown",
   "metadata": {},
   "source": [
    ">$\\begin{aligned} g_{i} &=L^{\\prime}\\left(y_{i}, \\hat{y}_{i}^{K-1}\\right) \\\\ h_{i} &=L^{\\prime \\prime}\\left(y_{i}, \\hat{y}_{i}^{K-1}\\right) \\end{aligned}$"
   ]
  },
  {
   "cell_type": "markdown",
   "metadata": {},
   "source": [
    "$f_{K}$代表第K棵树，一棵树其实可以认为是输入x与叶子节点的映射关系"
   ]
  },
  {
   "cell_type": "markdown",
   "metadata": {},
   "source": [
    ">$f_{K}(x)=w_{q(x)}$  其中q(x)叶子节点的编号（从左往右编)。w是叶子节点的取值"
   ]
  },
  {
   "cell_type": "markdown",
   "metadata": {},
   "source": [
    "将他们带入公式，同时用树的叶子节点值和数量作为正则项，得到目标函数："
   ]
  },
  {
   "cell_type": "markdown",
   "metadata": {},
   "source": [
    ">$O b j^{K}=\\sum_{i}\\left[g_{i} w_{q}\\left(x_{i}\\right)+\\frac{1}{2} h_{i} w_{q\\left(x_{i}\\right)}^{2}\\right]+\\frac{1}{2} \\lambda \\sum_{j}^{T}\\left\\|w_{j}\\right\\|_{2}+\\gamma T$"
   ]
  },
  {
   "cell_type": "markdown",
   "metadata": {},
   "source": [
    "根据叶子节点编号合并，得到:"
   ]
  },
  {
   "cell_type": "markdown",
   "metadata": {},
   "source": [
    "> $O b j^{K}=\\sum_{j=1}^{T}\\left[\\left(\\sum_{\\left(i \\in I_{j}\\right)} g_{i}\\right) w_{j}+\\frac{1}{2}\\left(\\sum_{\\left(i \\in I_{j}\\right)} h_{i}+\\lambda\\right) w_{j}^{2}\\right]+\\gamma T$"
   ]
  },
  {
   "cell_type": "markdown",
   "metadata": {},
   "source": [
    "再一次做符号替代，因为都是常数\n",
    "\n",
    ">$G_{j}=\\sum_{\\left(i \\in I_{j}\\right)} g_{i}$ \n",
    "\n",
    ">$H_{j}=\\sum_{\\left(i \\in I_{j}\\right)} h_{i}$ "
   ]
  },
  {
   "cell_type": "markdown",
   "metadata": {},
   "source": [
    "得到"
   ]
  },
  {
   "cell_type": "markdown",
   "metadata": {},
   "source": [
    ">$O b j^{K}=\\sum_{j=1}^{T}\\left[G_{j} w_{j}+\\frac{1}{2}\\left(H_{j}+\\lambda\\right) w_{j}^{2}\\right]+\\gamma T$"
   ]
  },
  {
   "cell_type": "markdown",
   "metadata": {},
   "source": [
    "## 四、求导"
   ]
  },
  {
   "cell_type": "markdown",
   "metadata": {},
   "source": [
    "对$w_{j}$求导，再把极值点带入公式"
   ]
  },
  {
   "cell_type": "markdown",
   "metadata": {},
   "source": [
    ">$w_{j}=-\\frac{G_{j}}{H_{j}+\\lambda}$\n",
    "\n",
    ">$O b j^{K}=-\\frac{1}{2} \\sum_{j=1}^{T} \\frac{G_{j}^{2}}{H_{j}+\\lambda}+\\gamma T$"
   ]
  },
  {
   "cell_type": "markdown",
   "metadata": {},
   "source": [
    "## 五、分裂点的选择"
   ]
  },
  {
   "cell_type": "markdown",
   "metadata": {},
   "source": [
    "在构造第K棵树时，从根节点开始分裂，每次分裂都会改变$O b j^{K}$的值\n",
    "\n",
    "那么，只要在每次分裂的时候，都让$O b j^{K}$的值变小，且选择变小幅度最大的分裂方式\n",
    "\n",
    "这样，建立树的过程就和目标函数统一了"
   ]
  },
  {
   "cell_type": "markdown",
   "metadata": {},
   "source": [
    ">$O b j^{K_1}=-\\frac{1}{2} \\sum_{j=1}^{T} \\frac{G_{j}^{2}}{H_{j}+\\lambda}+\\gamma T$\n",
    "\n",
    ">$O b j^{K_2}=-\\frac{1}{2} \\sum_{j=1}^{T+1} \\frac{G_{j}^{2}}{H_{j}+\\lambda}+\\gamma T$\n",
    "\n",
    ">$O b j^{K_1} - O b j^{K_2}= \\frac{1}{2}\\left[\\frac{G_{L}^{2}}{H_{L}^{2}+\\lambda}+\\frac{G_{R}^{2}}{H_{R}^{2}+\\lambda}-\\frac{\\left(G L+G_{R}\\right)^{2}}{\\left(H_{L}+H_{R}\\right)^{2}+\\lambda}\\right]-\\gamma$"
   ]
  },
  {
   "cell_type": "markdown",
   "metadata": {},
   "source": [
    "![](https://github.com/yanqili/Basic-knowledge-at-work/blob/master/Related_images_and_documents/xgboost/1.jpg?raw=true])"
   ]
  },
  {
   "cell_type": "markdown",
   "metadata": {},
   "source": [
    "## 六、不同损失函数L的推导"
   ]
  },
  {
   "cell_type": "markdown",
   "metadata": {},
   "source": [
    "### 做分类时的log损失"
   ]
  },
  {
   "cell_type": "markdown",
   "metadata": {},
   "source": [
    "$y_{i, p r e d}=\\frac{1}{1+e^{-\\hat{y}_{i}}}$\n",
    "\n",
    "$g_{i}=y_{i, p r e d}-y_{i}$\n",
    "\n",
    "$h_{i}=y_{i, p r e d} *\\left(1-y_{i, p r e d}\\right)$"
   ]
  },
  {
   "cell_type": "markdown",
   "metadata": {},
   "source": [
    "* 源码"
   ]
  },
  {
   "cell_type": "markdown",
   "metadata": {},
   "source": [
    "![](https://github.com/yanqili/Basic-knowledge-at-work/blob/master/Related_images_and_documents/xgboost/2.png?raw=true)"
   ]
  },
  {
   "cell_type": "markdown",
   "metadata": {},
   "source": [
    "### 做回归的平方损失函数"
   ]
  },
  {
   "cell_type": "markdown",
   "metadata": {},
   "source": [
    "* 源码"
   ]
  },
  {
   "cell_type": "markdown",
   "metadata": {},
   "source": [
    "![](https://github.com/yanqili/Basic-knowledge-at-work/blob/master/Related_images_and_documents/xgboost/3.png?raw=true)"
   ]
  },
  {
   "cell_type": "markdown",
   "metadata": {},
   "source": [
    "## 七、实例"
   ]
  },
  {
   "cell_type": "markdown",
   "metadata": {},
   "source": [
    "![](https://github.com/yanqili/Basic-knowledge-at-work/blob/master/Related_images_and_documents/xgboost/4.jpg?raw=true)"
   ]
  },
  {
   "cell_type": "markdown",
   "metadata": {},
   "source": [
    "![](https://github.com/yanqili/Basic-knowledge-at-work/blob/master/Related_images_and_documents/xgboost/5.jpg?raw=true)"
   ]
  }
 ],
 "metadata": {
  "kernelspec": {
   "display_name": "Python 3",
   "language": "python",
   "name": "python3"
  },
  "language_info": {
   "codemirror_mode": {
    "name": "ipython",
    "version": 3
   },
   "file_extension": ".py",
   "mimetype": "text/x-python",
   "name": "python",
   "nbconvert_exporter": "python",
   "pygments_lexer": "ipython3",
   "version": "3.6.4"
  }
 },
 "nbformat": 4,
 "nbformat_minor": 2
}
